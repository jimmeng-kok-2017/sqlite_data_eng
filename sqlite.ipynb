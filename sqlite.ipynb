{
 "cells": [
  {
   "cell_type": "markdown",
   "id": "51eea0c9",
   "metadata": {},
   "source": [
    "# Set up a sqlite database"
   ]
  },
  {
   "cell_type": "code",
   "execution_count": 1,
   "id": "d8854d76",
   "metadata": {},
   "outputs": [],
   "source": [
    "import sqlite3"
   ]
  },
  {
   "cell_type": "code",
   "execution_count": 2,
   "id": "3eef1361",
   "metadata": {},
   "outputs": [
    {
     "data": {
      "text/plain": [
       "<sqlite3.Connection at 0x27619468030>"
      ]
     },
     "execution_count": 2,
     "metadata": {},
     "output_type": "execute_result"
    }
   ],
   "source": [
    "sqlite3.connect(\"hdb_resale\") #your db name"
   ]
  },
  {
   "cell_type": "markdown",
   "id": "627d5ab7",
   "metadata": {},
   "source": [
    "# Quick peek at data"
   ]
  },
  {
   "cell_type": "code",
   "execution_count": 6,
   "id": "bb83b557",
   "metadata": {},
   "outputs": [],
   "source": [
    "import pandas as pd"
   ]
  },
  {
   "cell_type": "code",
   "execution_count": 8,
   "id": "5a0e0bca",
   "metadata": {},
   "outputs": [
    {
     "data": {
      "text/html": [
       "<div>\n",
       "<style scoped>\n",
       "    .dataframe tbody tr th:only-of-type {\n",
       "        vertical-align: middle;\n",
       "    }\n",
       "\n",
       "    .dataframe tbody tr th {\n",
       "        vertical-align: top;\n",
       "    }\n",
       "\n",
       "    .dataframe thead th {\n",
       "        text-align: right;\n",
       "    }\n",
       "</style>\n",
       "<table border=\"1\" class=\"dataframe\">\n",
       "  <thead>\n",
       "    <tr style=\"text-align: right;\">\n",
       "      <th></th>\n",
       "      <th>month</th>\n",
       "      <th>town</th>\n",
       "      <th>flat_type</th>\n",
       "      <th>block</th>\n",
       "      <th>street_name</th>\n",
       "      <th>storey_range</th>\n",
       "      <th>floor_area_sqm</th>\n",
       "      <th>flat_model</th>\n",
       "      <th>lease_commence_date</th>\n",
       "      <th>remaining_lease</th>\n",
       "      <th>resale_price</th>\n",
       "    </tr>\n",
       "  </thead>\n",
       "  <tbody>\n",
       "    <tr>\n",
       "      <th>0</th>\n",
       "      <td>2023-11</td>\n",
       "      <td>SENGKANG</td>\n",
       "      <td>2 ROOM</td>\n",
       "      <td>453A</td>\n",
       "      <td>FERNVALE RD</td>\n",
       "      <td>19 TO 21</td>\n",
       "      <td>46</td>\n",
       "      <td>2-room</td>\n",
       "      <td>2015</td>\n",
       "      <td>90</td>\n",
       "      <td>332000</td>\n",
       "    </tr>\n",
       "    <tr>\n",
       "      <th>1</th>\n",
       "      <td>2023-11</td>\n",
       "      <td>SENGKANG</td>\n",
       "      <td>2 ROOM</td>\n",
       "      <td>453A</td>\n",
       "      <td>FERNVALE RD</td>\n",
       "      <td>13 TO 15</td>\n",
       "      <td>46</td>\n",
       "      <td>Model A</td>\n",
       "      <td>2015</td>\n",
       "      <td>90</td>\n",
       "      <td>340000</td>\n",
       "    </tr>\n",
       "    <tr>\n",
       "      <th>2</th>\n",
       "      <td>2023-11</td>\n",
       "      <td>SENGKANG</td>\n",
       "      <td>2 ROOM</td>\n",
       "      <td>443C</td>\n",
       "      <td>FERNVALE RD</td>\n",
       "      <td>04 TO 06</td>\n",
       "      <td>47</td>\n",
       "      <td>Model A</td>\n",
       "      <td>2012</td>\n",
       "      <td>88</td>\n",
       "      <td>335000</td>\n",
       "    </tr>\n",
       "    <tr>\n",
       "      <th>3</th>\n",
       "      <td>2023-11</td>\n",
       "      <td>SENGKANG</td>\n",
       "      <td>2 ROOM</td>\n",
       "      <td>180B</td>\n",
       "      <td>RIVERVALE CRES</td>\n",
       "      <td>04 TO 06</td>\n",
       "      <td>47</td>\n",
       "      <td>Model A</td>\n",
       "      <td>2015</td>\n",
       "      <td>90</td>\n",
       "      <td>338000</td>\n",
       "    </tr>\n",
       "    <tr>\n",
       "      <th>4</th>\n",
       "      <td>2023-11</td>\n",
       "      <td>SENGKANG</td>\n",
       "      <td>3 ROOM</td>\n",
       "      <td>334A</td>\n",
       "      <td>ANCHORVALE CRES</td>\n",
       "      <td>10 TO 12</td>\n",
       "      <td>67</td>\n",
       "      <td>Premium Apartment</td>\n",
       "      <td>2015</td>\n",
       "      <td>91</td>\n",
       "      <td>470000</td>\n",
       "    </tr>\n",
       "  </tbody>\n",
       "</table>\n",
       "</div>"
      ],
      "text/plain": [
       "     month      town flat_type block      street_name storey_range  \\\n",
       "0  2023-11  SENGKANG    2 ROOM  453A      FERNVALE RD     19 TO 21   \n",
       "1  2023-11  SENGKANG    2 ROOM  453A      FERNVALE RD     13 TO 15   \n",
       "2  2023-11  SENGKANG    2 ROOM  443C      FERNVALE RD     04 TO 06   \n",
       "3  2023-11  SENGKANG    2 ROOM  180B   RIVERVALE CRES     04 TO 06   \n",
       "4  2023-11  SENGKANG    3 ROOM  334A  ANCHORVALE CRES     10 TO 12   \n",
       "\n",
       "   floor_area_sqm         flat_model  lease_commence_date  remaining_lease  \\\n",
       "0              46             2-room                 2015               90   \n",
       "1              46            Model A                 2015               90   \n",
       "2              47            Model A                 2012               88   \n",
       "3              47            Model A                 2015               90   \n",
       "4              67  Premium Apartment                 2015               91   \n",
       "\n",
       "   resale_price  \n",
       "0        332000  \n",
       "1        340000  \n",
       "2        335000  \n",
       "3        338000  \n",
       "4        470000  "
      ]
     },
     "execution_count": 8,
     "metadata": {},
     "output_type": "execute_result"
    }
   ],
   "source": [
    "df = pd.read_excel(\"./data/raw/HDB_Resale_Flat_Sengkang_11_2023.xlsx\")\n",
    "df.head()"
   ]
  },
  {
   "cell_type": "markdown",
   "id": "378918fb",
   "metadata": {},
   "source": [
    "# Import data"
   ]
  },
  {
   "cell_type": "markdown",
   "id": "a6da85b0",
   "metadata": {},
   "source": [
    "<b>Convert data from excel to csv</b>"
   ]
  },
  {
   "cell_type": "code",
   "execution_count": 4,
   "id": "e90ca41c",
   "metadata": {},
   "outputs": [],
   "source": [
    "from conversions import export_excel_work_book_sheet_to_csv"
   ]
  },
  {
   "cell_type": "code",
   "execution_count": 10,
   "id": "3bdc0cce",
   "metadata": {},
   "outputs": [
    {
     "name": "stdout",
     "output_type": "stream",
     "text": [
      "\n",
      "Excel Workbook: ./data/raw/HDB_Resale_Flat_Sengkang_11_2023.xlsx\n",
      "\n",
      "Work Sheet: Sheet1\n",
      "\n",
      "Number of Columns: 11\n",
      "\n",
      "Number of Rows: 149\n",
      "\n",
      "Extracting Work Sheet Sheet1 to ./data/interim/HDB_Resale_Flat_Sengkang_11_2023.csv \n",
      "\n"
     ]
    }
   ],
   "source": [
    "export_excel_work_book_sheet_to_csv(\"./data/raw/HDB_Resale_Flat_Sengkang_11_2023.xlsx\",\n",
    "                                    \"Sheet1\",\n",
    "                                    \"./data/interim/HDB_Resale_Flat_Sengkang_11_2023.csv\"\n",
    "                                   )"
   ]
  },
  {
   "cell_type": "code",
   "execution_count": 11,
   "id": "15d71e0f",
   "metadata": {},
   "outputs": [],
   "source": [
    "conn = sqlite3.connect(\"sengkang_resale_nov_23\") # what's your dataset about\n",
    "c = conn.cursor()"
   ]
  },
  {
   "cell_type": "code",
   "execution_count": 14,
   "id": "09fb0265",
   "metadata": {},
   "outputs": [
    {
     "data": {
      "text/plain": [
       "<sqlite3.Cursor at 0x2761e735d50>"
      ]
     },
     "execution_count": 14,
     "metadata": {},
     "output_type": "execute_result"
    }
   ],
   "source": [
    "c.execute('''\n",
    "    CREATE TABLE IF NOT EXISTS sengkang_resale_nov_23\n",
    "    (month TEXT,\n",
    "    town TEXT,\n",
    "    flat_type TEXT,\n",
    "    block TEXT,\n",
    "    street_name TEXT,\n",
    "    storey_range TEXT,\n",
    "    floor_area_sqm TEXT,\n",
    "    flat_model TEXT,\n",
    "    lease_commence_date TEXT,\n",
    "    remaining_lease TEXT,\n",
    "    resale_price TEXT\n",
    "    )\n",
    "''')"
   ]
  },
  {
   "cell_type": "code",
   "execution_count": 15,
   "id": "c0fdb229",
   "metadata": {},
   "outputs": [],
   "source": [
    "# Test run some data"
   ]
  },
  {
   "cell_type": "code",
   "execution_count": 16,
   "id": "2dbb68b9",
   "metadata": {},
   "outputs": [],
   "source": [
    "c.execute('''\n",
    "    INSERT INTO sengkang_resale_nov_23(month, town, flat_type, block, street_name, storey_range, floor_area_sqm, flat_model, lease_commence_date, remaining_lease, resale_price)\n",
    "    VALUES(\"2023-12\", \"SENGKANG\", \"4 ROOM\", \"124A\", \"RIVERVALE DRIVE\", \"04 TO 06\", \"87\", \"Model A\", \"2015\", \"90\", \"680000\")\n",
    "''')\n",
    "conn.commit()"
   ]
  },
  {
   "cell_type": "code",
   "execution_count": 5,
   "id": "3c6cfdda",
   "metadata": {},
   "outputs": [],
   "source": [
    "import pandas as pd"
   ]
  },
  {
   "cell_type": "code",
   "execution_count": 17,
   "id": "e7593319",
   "metadata": {},
   "outputs": [
    {
     "data": {
      "text/html": [
       "<div>\n",
       "<style scoped>\n",
       "    .dataframe tbody tr th:only-of-type {\n",
       "        vertical-align: middle;\n",
       "    }\n",
       "\n",
       "    .dataframe tbody tr th {\n",
       "        vertical-align: top;\n",
       "    }\n",
       "\n",
       "    .dataframe thead th {\n",
       "        text-align: right;\n",
       "    }\n",
       "</style>\n",
       "<table border=\"1\" class=\"dataframe\">\n",
       "  <thead>\n",
       "    <tr style=\"text-align: right;\">\n",
       "      <th></th>\n",
       "      <th>month</th>\n",
       "      <th>town</th>\n",
       "      <th>flat_type</th>\n",
       "      <th>block</th>\n",
       "      <th>street_name</th>\n",
       "      <th>storey_range</th>\n",
       "      <th>floor_area_sqm</th>\n",
       "      <th>flat_model</th>\n",
       "      <th>lease_commence_date</th>\n",
       "      <th>remaining_lease</th>\n",
       "      <th>resale_price</th>\n",
       "    </tr>\n",
       "  </thead>\n",
       "  <tbody>\n",
       "    <tr>\n",
       "      <th>0</th>\n",
       "      <td>2023-12</td>\n",
       "      <td>SENGKANG</td>\n",
       "      <td>4 ROOM</td>\n",
       "      <td>124A</td>\n",
       "      <td>RIVERVALE DRIVE</td>\n",
       "      <td>04 TO 06</td>\n",
       "      <td>87</td>\n",
       "      <td>Model A</td>\n",
       "      <td>2015</td>\n",
       "      <td>90</td>\n",
       "      <td>680000</td>\n",
       "    </tr>\n",
       "  </tbody>\n",
       "</table>\n",
       "</div>"
      ],
      "text/plain": [
       "     month      town flat_type block      street_name storey_range  \\\n",
       "0  2023-12  SENGKANG    4 ROOM  124A  RIVERVALE DRIVE     04 TO 06   \n",
       "\n",
       "  floor_area_sqm flat_model lease_commence_date remaining_lease resale_price  \n",
       "0             87    Model A                2015              90       680000  "
      ]
     },
     "execution_count": 17,
     "metadata": {},
     "output_type": "execute_result"
    }
   ],
   "source": [
    "pd.read_sql_query(\"SELECT * from sengkang_resale_nov_23\", conn)"
   ]
  },
  {
   "cell_type": "code",
   "execution_count": 18,
   "id": "35cd65f0",
   "metadata": {},
   "outputs": [
    {
     "data": {
      "text/plain": [
       "[('2023-12',\n",
       "  'SENGKANG',\n",
       "  '4 ROOM',\n",
       "  '124A',\n",
       "  'RIVERVALE DRIVE',\n",
       "  '04 TO 06',\n",
       "  '87',\n",
       "  'Model A',\n",
       "  '2015',\n",
       "  '90',\n",
       "  '680000')]"
      ]
     },
     "execution_count": 18,
     "metadata": {},
     "output_type": "execute_result"
    }
   ],
   "source": [
    "c.execute(\"SELECT * FROM sengkang_resale_nov_23\")\n",
    "rows = c.fetchall()\n",
    "rows"
   ]
  },
  {
   "cell_type": "code",
   "execution_count": null,
   "id": "e18208a6",
   "metadata": {},
   "outputs": [],
   "source": []
  }
 ],
 "metadata": {
  "kernelspec": {
   "display_name": "Python 3 (ipykernel)",
   "language": "python",
   "name": "python3"
  },
  "language_info": {
   "codemirror_mode": {
    "name": "ipython",
    "version": 3
   },
   "file_extension": ".py",
   "mimetype": "text/x-python",
   "name": "python",
   "nbconvert_exporter": "python",
   "pygments_lexer": "ipython3",
   "version": "3.9.12"
  }
 },
 "nbformat": 4,
 "nbformat_minor": 5
}
